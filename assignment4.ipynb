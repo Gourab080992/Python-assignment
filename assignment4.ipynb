{
 "cells": [
  {
   "cell_type": "code",
   "execution_count": 15,
   "metadata": {},
   "outputs": [
    {
     "name": "stdout",
     "output_type": "stream",
     "text": [
      "a = 7.6\n",
      "b = 8\n",
      "c = 9\n",
      "area : 28.641297107498474\n"
     ]
    }
   ],
   "source": [
    "class poly:\n",
    "    def __init__(self, a, b, c):\n",
    "        self.a = float(a)\n",
    "        self.b = float(b)\n",
    "        self.c = float(c)\n",
    "        self.area = 0\n",
    "\n",
    "class triangle(poly):\n",
    "    def __init__(self, a, b, c):\n",
    "        poly.__init__(self, a, b, c)\n",
    "\n",
    "    def calculate_area(self):\n",
    "        s = (self.a + self.b + self.c) / 2\n",
    "        self.area = float((s * (s - self.a) * (s - self.b) * (s - self.c))) ** 0.5\n",
    "\n",
    "    def get_area(self):\n",
    "        return self.area     \n",
    "\n",
    "\n",
    "\n",
    "a, b, c = input(\"a = \"), input(\"b = \"), input(\"c = \")\n",
    "\n",
    "t = triangle(a, b, c)\n",
    "t.calculate_area()\n",
    "print(\"area : {}\".format(t.get_area()))"
   ]
  },
  {
   "cell_type": "code",
   "execution_count": 13,
   "metadata": {},
   "outputs": [
    {
     "name": "stdout",
     "output_type": "stream",
     "text": [
      "Enter words, separated by spaces: diplodocus stegosaur mososaur stegodon trex\n",
      "Minimum length of words to keep: 8\n",
      "Words longer than 8 are diplodocus, stegosaur.\n"
     ]
    }
   ],
   "source": [
    "def filter_long_words(wordlist, length):\n",
    "    return (word for word in wordlist if len(word) > length)\n",
    "\n",
    "def main():\n",
    "    words = input(\"Enter words, separated by spaces: \").split()\n",
    "    length = int(input(\"Minimum length of words to keep: \"))\n",
    "    print(\"Words longer than {} are {}.\".format(length,\n",
    "          ', '.join(filter_long_words(words, length))))\n",
    "\n",
    "if __name__ == \"__main__\":\n",
    "    main()"
   ]
  },
  {
   "cell_type": "code",
   "execution_count": 11,
   "metadata": {},
   "outputs": [
    {
     "name": "stdout",
     "output_type": "stream",
     "text": [
      "Enter words, separated by spaces: ali tyson joe doentay anthony\n",
      "List of words:['ali', 'tyson', 'joe', 'doentay', 'anthony']\n",
      "List of wordlength:[3, 5, 3, 7, 7]\n"
     ]
    }
   ],
   "source": [
    "def word_length(listOfWords):\n",
    "    listOfInts = []\n",
    "    for i in range(len(listOfWords)):\n",
    "        listOfInts.append(len(listOfWords[i]))\n",
    "    print (\"List of words:\"+str(listOfWords))    \n",
    "    print (\"List of wordlength:\"+str(listOfInts))\n",
    "    \n",
    "def main():\n",
    "    listOfWords = input(\"Enter words, separated by spaces: \").split()\n",
    "    word_length(listOfWords)\n",
    "if __name__ == \"__main__\":\n",
    "    main()"
   ]
  },
  {
   "cell_type": "code",
   "execution_count": 10,
   "metadata": {},
   "outputs": [
    {
     "name": "stdout",
     "output_type": "stream",
     "text": [
      "Enter a character:t\n",
      "False\n",
      "enter a character again: (y/n):y\n",
      "Enter a character:ty\n",
      "enter exactly one character\n",
      "enter a character again: (y/n):y\n",
      "Enter a character:o\n",
      "True\n",
      "enter a character again: (y/n):n\n"
     ]
    }
   ],
   "source": [
    "def is_vowel(char):\n",
    "    vowels = ('a', 'e', 'i', 'o', 'u')\n",
    "    if char not in vowels:\n",
    "       print(False)\n",
    "    else:\n",
    "        print(True)\n",
    "\n",
    "\n",
    "def main():\n",
    "    again=\"y\"\n",
    "    while again.lower() == \"y\":\n",
    "        char = input(\"Enter a character:\")\n",
    "        if len(char) > 1: # Changed the condition from > to !=\n",
    "            print(\"enter exactly one character\")\n",
    "        else:\n",
    "            is_vowel(char)\n",
    "        again = input(\"enter a character again: (y/n):\")    \n",
    "if __name__ == \"__main__\":\n",
    "    main()"
   ]
  },
  {
   "cell_type": "code",
   "execution_count": null,
   "metadata": {},
   "outputs": [],
   "source": []
  }
 ],
 "metadata": {
  "kernelspec": {
   "display_name": "Python 3",
   "language": "python",
   "name": "python3"
  },
  "language_info": {
   "codemirror_mode": {
    "name": "ipython",
    "version": 3
   },
   "file_extension": ".py",
   "mimetype": "text/x-python",
   "name": "python",
   "nbconvert_exporter": "python",
   "pygments_lexer": "ipython3",
   "version": "3.7.4"
  }
 },
 "nbformat": 4,
 "nbformat_minor": 2
}
