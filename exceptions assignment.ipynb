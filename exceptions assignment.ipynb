{
 "cells": [
  {
   "cell_type": "code",
   "execution_count": 10,
   "metadata": {},
   "outputs": [
    {
     "name": "stdout",
     "output_type": "stream",
     "text": [
      "enter the value of x:5\n",
      "enter the value of y:0\n",
      "An interger/number can't be divisible by Zero\n",
      "enter a character again: (y/n):y\n",
      "enter the value of x:5\n",
      "enter the value of y:0\n",
      "An interger/number can't be divisible by Zero\n",
      "enter a character again: (y/n):n\n",
      "bye\n"
     ]
    }
   ],
   "source": [
    "def div_by_zero(x,y):\n",
    "    try:\n",
    "        x/y\n",
    "    except ZeroDivisionError as e:\n",
    "        print(\"An interger/number can't be divisible by Zero\")\n",
    "        #print(\"An execption has been occured as, \",e, \" action has been attempted\")\n",
    "def main():\n",
    "    x= float(input(\"enter the value of x:\"))\n",
    "    y= float(input(\"enter the value of y:\"))\n",
    "    div_by_zero(x,y)\n",
    "    again = input(\"enter a character again: (y/n):\")\n",
    "    if again.lower() == \"y\":\n",
    "        main()\n",
    "    else:  \n",
    "        print(\"bye\")\n",
    "if __name__ == \"__main__\":\n",
    "    main()"
   ]
  },
  {
   "cell_type": "code",
   "execution_count": 7,
   "metadata": {},
   "outputs": [
    {
     "name": "stdout",
     "output_type": "stream",
     "text": [
      "Americans Play Baseball.\n",
      "Americans Play cricket.\n",
      "Americans watch Baseball.\n",
      "Americans watch cricket.\n",
      "Indians Play Baseball.\n",
      "Indians Play cricket.\n",
      "Indians watch Baseball.\n",
      "Indians watch cricket.\n"
     ]
    }
   ],
   "source": [
    "subject=[\"Americans\", \"Indians\"]\n",
    "verb=[\"Play\", \"watch\"]\n",
    "obj=[\"Baseball\",\"cricket\"]\n",
    "for sentence in sentence_list:\n",
    " \n",
    "# Use list comprehension instead of looping over each of the predicates\n",
    " sentence_list = [(sub+\" \"+ vb + \" \" + ob + \".\") for sub in subject for vb in verb for ob in obj]\n",
    " print (sentence)"
   ]
  },
  {
   "cell_type": "code",
   "execution_count": null,
   "metadata": {},
   "outputs": [],
   "source": []
  },
  {
   "cell_type": "code",
   "execution_count": null,
   "metadata": {},
   "outputs": [],
   "source": []
  }
 ],
 "metadata": {
  "kernelspec": {
   "display_name": "Python 3",
   "language": "python",
   "name": "python3"
  },
  "language_info": {
   "codemirror_mode": {
    "name": "ipython",
    "version": 3
   },
   "file_extension": ".py",
   "mimetype": "text/x-python",
   "name": "python",
   "nbconvert_exporter": "python",
   "pygments_lexer": "ipython3",
   "version": "3.7.4"
  }
 },
 "nbformat": 4,
 "nbformat_minor": 2
}
